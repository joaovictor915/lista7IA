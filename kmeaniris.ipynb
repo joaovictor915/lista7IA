# Lista 7 - Agrupamento (Iris Dataset)
# Autor: João Victor Martins
# Data: 20/04/2025

import pandas as pd
import numpy as np
import matplotlib.pyplot as plt
import seaborn as sns
from sklearn.cluster import KMeans, DBSCAN
from sklearn.preprocessing import MinMaxScaler, LabelEncoder
from sklearn.metrics import silhouette_score, calinski_harabasz_score, confusion_matrix
from scipy.stats import mode

# Questao 01.1 - Pre-processamento
# -------------------------------
df = pd.read_csv("Iris.csv")
features = df.drop(columns=['class'])

# Remocao de outliers via IQR
def remove_outliers_iqr(data):
    Q1 = data.quantile(0.25)
    Q3 = data.quantile(0.75)
    IQR = Q3 - Q1
    mask = ~((data < (Q1 - 1.5 * IQR)) | (data > (Q3 + 1.5 * IQR))).any(axis=1)
    return data[mask], mask

features_no_outliers, mask = remove_outliers_iqr(features)
df_no_outliers = df[mask]

# Normalizacao
scaler = MinMaxScaler()
features_normalized = scaler.fit_transform(features_no_outliers)

# Questao 01.2 - KMeans, Elbow e Silhouette
# ----------------------------------------
k_values = list(range(2, 10))
inertias = []
silhouette_scores = []

for k in k_values:
    kmeans = KMeans(n_clusters=k, random_state=42, n_init=10)
    labels = kmeans.fit_predict(features_normalized)
    inertias.append(kmeans.inertia_)
    silhouette_scores.append(silhouette_score(features_normalized, labels))

plt.figure(figsize=(12, 5))
plt.subplot(1, 2, 1)
plt.plot(k_values, inertias, 'bo-')
plt.title("Elbow Method")
plt.xlabel("k")
plt.ylabel("Inertia")

plt.subplot(1, 2, 2)
plt.plot(k_values, silhouette_scores, 'go-')
plt.title("Silhouette Score")
plt.xlabel("k")
plt.ylabel("Score")
plt.tight_layout()
plt.show()

# Questao 01.3 - Hiperparâmetros explicados no relatorio textual
# Questao 01.4 - Distancias Euclidiana e Manhattan explicadas no relatorio textual

# Questao 01.5 - Calinski-Harabasz
# -------------------------------
ch_scores = []
for k in k_values:
    kmeans = KMeans(n_clusters=k, random_state=42, n_init=10)
    labels = kmeans.fit_predict(features_normalized)
    ch_scores.append(calinski_harabasz_score(features_normalized, labels))

plt.figure(figsize=(6, 4))
plt.plot(k_values, ch_scores, 'ro-')
plt.title("Calinski-Harabasz Score")
plt.xlabel("k")
plt.ylabel("Score")
plt.grid(True)
plt.show()

# Questao 01.6 - DBSCAN e SOM
# ---------------------------
# DBSCAN
dbscan = DBSCAN(eps=0.2, min_samples=5)
db_labels = dbscan.fit_predict(features_normalized)
dbscan_clusters = len(set(db_labels)) - (1 if -1 in db_labels else 0)
print("DBSCAN encontrou", dbscan_clusters, "clusters")

plt.scatter(features_normalized[:, 0], features_normalized[:, 1], c=db_labels, cmap='plasma')
plt.title("Agrupamento DBSCAN")
plt.show()

# SOM
from minisom import MiniSom
som = MiniSom(x=1, y=3, input_len=4, sigma=1.0, learning_rate=0.5)
som.random_weights_init(features_normalized)
som.train_random(features_normalized, 100)
som_labels = [som.winner(x)[1] for x in features_normalized]

plt.scatter(features_normalized[:, 0], features_normalized[:, 1], c=som_labels, cmap='viridis')
plt.title("Agrupamento SOM")
plt.show()

# Questao 01.7 - Visualizacao de erros do KMeans
# ----------------------------------------------
kmeans = KMeans(n_clusters=3, random_state=42, n_init=10)
kmeans_labels = kmeans.fit_predict(features_normalized)
true_labels = df_no_outliers['class'].values
le = LabelEncoder()
true_labels_encoded = le.fit_transform(true_labels)

mapped_labels = np.zeros_like(kmeans_labels)
for i in range(3):
    mask = (kmeans_labels == i)
    mapped_labels[mask] = mode(true_labels_encoded[mask])[0]

conf_mat = confusion_matrix(true_labels_encoded, mapped_labels)
plt.figure(figsize=(6, 4))
sns.heatmap(conf_mat, annot=True, fmt='d',
            xticklabels=le.classes_, yticklabels=le.classes_,
            cmap='Blues')
plt.xlabel("Predito pelo KMeans")
plt.ylabel("Classe Real")
plt.title("Matriz de Confusao - KMeans vs Real")
plt.tight_layout()
plt.show()

incorrect_mask = mapped_labels != true_labels_encoded
incorrect_instances = df_no_outliers[incorrect_mask]
print("Instancias mal agrupadas:", incorrect_mask.sum())

# Questao 01.8 - Relatorio em texto separadamente
